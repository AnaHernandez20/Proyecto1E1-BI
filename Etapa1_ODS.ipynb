{
  "cells": [
    {
      "cell_type": "markdown",
      "metadata": {
        "id": "eG0jRLssjXng"
      },
      "source": [
        "# Proyecto 1 - Etapa 1\n",
        "\n",
        "### Grupo 12\n",
        "- **Estudiante 1** : Juan Sebastián Ardila López\n",
        "- **Estudiante 2** : William Andrés Bayona Vergara\n",
        "- **Estudiante 3** : Ana María Hernández Lasso"
      ]
    },
    {
      "cell_type": "markdown",
      "metadata": {},
      "source": [
        "Requerimos la instalación pip install de:\n",
        "- pip install pandas\n",
        "- pip install numpy\n",
        "- pip install matplotlib\n",
        "- pip install num2words\n",
        "- pip install nltk\n",
        "- pip install spacy\n",
        "- python -m spacy download es_core_news_sm\n",
        "- pip install scikit-learn"
      ]
    },
    {
      "cell_type": "markdown",
      "metadata": {
        "id": "rvNNI283pE2R"
      },
      "source": [
        "# Etapa 1. Entendimiento de los Datos\n",
        "Entenderemos el dataset con el que vamos a trabajar en el proyecto."
      ]
    },
    {
      "cell_type": "markdown",
      "metadata": {
        "id": "YQsqClDTpLNc"
      },
      "source": [
        "## 1.1 Exploración de datos\n",
        "\n",
        "### Carga del dataset\n",
        "\n",
        "Primero, cargaremos el dataset desde el archivo excel."
      ]
    },
    {
      "cell_type": "code",
      "execution_count": 1,
      "metadata": {
        "colab": {
          "base_uri": "https://localhost:8080/",
          "height": 458
        },
        "id": "FOTQIFAKpSFC",
        "outputId": "e4b91fa2-1d79-445d-de6d-8783fb7ee13d"
      },
      "outputs": [
        {
          "name": "stdout",
          "output_type": "stream",
          "text": [
            "Cantidad de filas: 2424\n",
            "Cantidad de columnas: 2\n",
            "Primeras filas del dataset:\n"
          ]
        },
        {
          "data": {
            "text/html": [
              "<div>\n",
              "<style scoped>\n",
              "    .dataframe tbody tr th:only-of-type {\n",
              "        vertical-align: middle;\n",
              "    }\n",
              "\n",
              "    .dataframe tbody tr th {\n",
              "        vertical-align: top;\n",
              "    }\n",
              "\n",
              "    .dataframe thead th {\n",
              "        text-align: right;\n",
              "    }\n",
              "</style>\n",
              "<table border=\"1\" class=\"dataframe\">\n",
              "  <thead>\n",
              "    <tr style=\"text-align: right;\">\n",
              "      <th></th>\n",
              "      <th>textos</th>\n",
              "      <th>labels</th>\n",
              "    </tr>\n",
              "  </thead>\n",
              "  <tbody>\n",
              "    <tr>\n",
              "      <th>0</th>\n",
              "      <td>\"Aprendizaje\" y \"educación\" se consideran sinó...</td>\n",
              "      <td>4</td>\n",
              "    </tr>\n",
              "    <tr>\n",
              "      <th>1</th>\n",
              "      <td>Para los niños más pequeños (bebés y niños peq...</td>\n",
              "      <td>4</td>\n",
              "    </tr>\n",
              "    <tr>\n",
              "      <th>2</th>\n",
              "      <td>Además, la formación de especialistas en medic...</td>\n",
              "      <td>3</td>\n",
              "    </tr>\n",
              "    <tr>\n",
              "      <th>3</th>\n",
              "      <td>En los países de la OCDE se tiende a pasar de ...</td>\n",
              "      <td>4</td>\n",
              "    </tr>\n",
              "    <tr>\n",
              "      <th>4</th>\n",
              "      <td>Este grupo se centró en las personas que padec...</td>\n",
              "      <td>3</td>\n",
              "    </tr>\n",
              "  </tbody>\n",
              "</table>\n",
              "</div>"
            ],
            "text/plain": [
              "                                              textos  labels\n",
              "0  \"Aprendizaje\" y \"educación\" se consideran sinó...       4\n",
              "1  Para los niños más pequeños (bebés y niños peq...       4\n",
              "2  Además, la formación de especialistas en medic...       3\n",
              "3  En los países de la OCDE se tiende a pasar de ...       4\n",
              "4  Este grupo se centró en las personas que padec...       3"
            ]
          },
          "metadata": {},
          "output_type": "display_data"
        },
        {
          "name": "stdout",
          "output_type": "stream",
          "text": [
            "Últimas filas del dataset:\n"
          ]
        },
        {
          "data": {
            "text/html": [
              "<div>\n",
              "<style scoped>\n",
              "    .dataframe tbody tr th:only-of-type {\n",
              "        vertical-align: middle;\n",
              "    }\n",
              "\n",
              "    .dataframe tbody tr th {\n",
              "        vertical-align: top;\n",
              "    }\n",
              "\n",
              "    .dataframe thead th {\n",
              "        text-align: right;\n",
              "    }\n",
              "</style>\n",
              "<table border=\"1\" class=\"dataframe\">\n",
              "  <thead>\n",
              "    <tr style=\"text-align: right;\">\n",
              "      <th></th>\n",
              "      <th>textos</th>\n",
              "      <th>labels</th>\n",
              "    </tr>\n",
              "  </thead>\n",
              "  <tbody>\n",
              "    <tr>\n",
              "      <th>2419</th>\n",
              "      <td>La tutoría de carrera está diseñada para apoya...</td>\n",
              "      <td>4</td>\n",
              "    </tr>\n",
              "    <tr>\n",
              "      <th>2420</th>\n",
              "      <td>Fuente: Ministerio de Educación. Las Tasas Int...</td>\n",
              "      <td>4</td>\n",
              "    </tr>\n",
              "    <tr>\n",
              "      <th>2421</th>\n",
              "      <td>Y desde 2010, el PNUD ha sido pionero en la pu...</td>\n",
              "      <td>1</td>\n",
              "    </tr>\n",
              "    <tr>\n",
              "      <th>2422</th>\n",
              "      <td>Sin embargo, estas fallas del mercado implican...</td>\n",
              "      <td>3</td>\n",
              "    </tr>\n",
              "    <tr>\n",
              "      <th>2423</th>\n",
              "      <td>Aunque existen programas para convertirse espe...</td>\n",
              "      <td>4</td>\n",
              "    </tr>\n",
              "  </tbody>\n",
              "</table>\n",
              "</div>"
            ],
            "text/plain": [
              "                                                 textos  labels\n",
              "2419  La tutoría de carrera está diseñada para apoya...       4\n",
              "2420  Fuente: Ministerio de Educación. Las Tasas Int...       4\n",
              "2421  Y desde 2010, el PNUD ha sido pionero en la pu...       1\n",
              "2422  Sin embargo, estas fallas del mercado implican...       3\n",
              "2423  Aunque existen programas para convertirse espe...       4"
            ]
          },
          "metadata": {},
          "output_type": "display_data"
        },
        {
          "name": "stdout",
          "output_type": "stream",
          "text": [
            "Información del dataset:\n",
            "<class 'pandas.core.frame.DataFrame'>\n",
            "RangeIndex: 2424 entries, 0 to 2423\n",
            "Data columns (total 2 columns):\n",
            " #   Column  Non-Null Count  Dtype \n",
            "---  ------  --------------  ----- \n",
            " 0   textos  2424 non-null   object\n",
            " 1   labels  2424 non-null   int64 \n",
            "dtypes: int64(1), object(1)\n",
            "memory usage: 38.0+ KB\n"
          ]
        },
        {
          "data": {
            "text/plain": [
              "None"
            ]
          },
          "metadata": {},
          "output_type": "display_data"
        }
      ],
      "source": [
        "import pandas as pd\n",
        "import numpy as np\n",
        "\n",
        "#Cargamos el dataset de los datos de entrenamiento del proyecto\n",
        "df_ods = pd.read_excel('Datos_proyecto.xlsx')\n",
        "#Queremos conocer el número de filas y columnas\n",
        "filas, columnas = df_ods.shape\n",
        "\n",
        "print(\"Cantidad de filas:\", filas)\n",
        "print(\"Cantidad de columnas:\", columnas)\n",
        "\n",
        "#Mostramos las primeras filas de las opiniones para saber cómo son los datos\n",
        "print(\"Primeras filas del dataset:\")\n",
        "display(df_ods.head())\n",
        "\n",
        "#Mostramos las últimas filas de las opiniones para saber cómo son los datos\n",
        "print(\"Últimas filas del dataset:\")\n",
        "display(df_ods.tail())\n",
        "\n",
        "#Mostramos la información del dataset\n",
        "print(\"Información del dataset:\")\n",
        "display(df_ods.info())"
      ]
    },
    {
      "cell_type": "markdown",
      "metadata": {},
      "source": [
        "Conocemos que hay dos variables en el dataset:\n",
        "\n",
        "- **textos**: contiene las opiniones ciudadanas en lenguaje natural, específicamente en idioma español. \n",
        "\n",
        "- **labels**: corresponde a la etiqueta numérica que clasifica cada texto en relación con un Objetivo de Desarrollo Sostenible (ODS).  \n"
      ]
    },
    {
      "cell_type": "code",
      "execution_count": 3,
      "metadata": {},
      "outputs": [
        {
          "data": {
            "text/plain": [
              "count    2424.000000\n",
              "mean      683.223185\n",
              "std       223.563695\n",
              "min       303.000000\n",
              "25%       513.000000\n",
              "50%       647.000000\n",
              "75%       809.250000\n",
              "max      1492.000000\n",
              "Name: textos_longitud, dtype: float64"
            ]
          },
          "execution_count": 3,
          "metadata": {},
          "output_type": "execute_result"
        }
      ],
      "source": [
        "# Calculamos longitud de cada descripción\n",
        "df_ods['textos_longitud'] = df_ods['textos'].str.len()\n",
        "\n",
        "#Estadisticas de la longitud de las descripciones\n",
        "df_ods_estadisticas = df_ods['textos_longitud'].describe()\n",
        "df_ods_estadisticas"
      ]
    },
    {
      "cell_type": "code",
      "execution_count": 4,
      "metadata": {},
      "outputs": [
        {
          "data": {
            "text/html": [
              "<div>\n",
              "<style scoped>\n",
              "    .dataframe tbody tr th:only-of-type {\n",
              "        vertical-align: middle;\n",
              "    }\n",
              "\n",
              "    .dataframe tbody tr th {\n",
              "        vertical-align: top;\n",
              "    }\n",
              "\n",
              "    .dataframe thead th {\n",
              "        text-align: right;\n",
              "    }\n",
              "</style>\n",
              "<table border=\"1\" class=\"dataframe\">\n",
              "  <thead>\n",
              "    <tr style=\"text-align: right;\">\n",
              "      <th></th>\n",
              "      <th>mean</th>\n",
              "      <th>min</th>\n",
              "      <th>max</th>\n",
              "    </tr>\n",
              "    <tr>\n",
              "      <th>labels</th>\n",
              "      <th></th>\n",
              "      <th></th>\n",
              "      <th></th>\n",
              "    </tr>\n",
              "  </thead>\n",
              "  <tbody>\n",
              "    <tr>\n",
              "      <th>1</th>\n",
              "      <td>680.588119</td>\n",
              "      <td>313</td>\n",
              "      <td>1492</td>\n",
              "    </tr>\n",
              "    <tr>\n",
              "      <th>3</th>\n",
              "      <td>680.991051</td>\n",
              "      <td>303</td>\n",
              "      <td>1486</td>\n",
              "    </tr>\n",
              "    <tr>\n",
              "      <th>4</th>\n",
              "      <td>686.468293</td>\n",
              "      <td>304</td>\n",
              "      <td>1452</td>\n",
              "    </tr>\n",
              "  </tbody>\n",
              "</table>\n",
              "</div>"
            ],
            "text/plain": [
              "              mean  min   max\n",
              "labels                       \n",
              "1       680.588119  313  1492\n",
              "3       680.991051  303  1486\n",
              "4       686.468293  304  1452"
            ]
          },
          "execution_count": 4,
          "metadata": {},
          "output_type": "execute_result"
        }
      ],
      "source": [
        "#Veamos las estadisticas de los textos segun el ODS\n",
        "textos_por_ods = df_ods.groupby('labels')['textos_longitud'].agg(['mean', 'min', 'max']).dropna()\n",
        "textos_por_ods"
      ]
    },
    {
      "cell_type": "code",
      "execution_count": 5,
      "metadata": {},
      "outputs": [
        {
          "data": {
            "image/png": "[encoded data removed]",
            "text/plain": [
              "<Figure size 1000x600 with 1 Axes>"
            ]
          },
          "metadata": {},
          "output_type": "display_data"
        }
      ],
      "source": [
        "#Grafiquemos la longitud de los textos por ODS\n",
        "import matplotlib.pyplot as plt\n",
        "\n",
        "#Un diagrama de barras para la longitud promedio de los textos por ODS\n",
        "fig, ax = plt.subplots(figsize=(10, 6))\n",
        "textos_por_ods['mean'].plot(kind='bar', ax=ax)\n",
        "ax.set_title('Longitud promedio de los textos por ODS')\n",
        "plt.show()"
      ]
    },
    {
      "cell_type": "code",
      "execution_count": 8,
      "metadata": {},
      "outputs": [
        {
          "data": {
            "image/png": "[encoded data removed]",
            "text/plain": [
              "<Figure size 1000x600 with 1 Axes>"
            ]
          },
          "metadata": {},
          "output_type": "display_data"
        }
      ],
      "source": [
        "#Un diagrama de bigotes o boxplot para la longitud de los textos por ODS\n",
        "fig, ax = plt.subplots(figsize=(10, 6))\n",
        "df_ods.boxplot(column='textos_longitud', by='labels', ax=ax)\n",
        "ax.set_ylabel('Longitud del texto')\n",
        "fig.suptitle('Distribución de la longitud de los textos por ODS')\n",
        "\n",
        "plt.show()"
      ]
    },
    {
      "cell_type": "code",
      "execution_count": 9,
      "metadata": {},
      "outputs": [
        {
          "data": {
            "image/png": "[encoded data removed]",
            "text/plain": [
              "<Figure size 1000x600 with 1 Axes>"
            ]
          },
          "metadata": {},
          "output_type": "display_data"
        }
      ],
      "source": [
        "#Un diagrama para ver la longitud minima y maxima de los textos por ODS\n",
        "fig, ax = plt.subplots(figsize=(10, 6))\n",
        "textos_por_ods[['min', 'max']].plot(kind='bar', ax=ax)\n",
        "fig.suptitle('Longitud mínima y máxima de los textos por ODS')\n",
        "plt.show()"
      ]
    },
    {
      "cell_type": "code",
      "execution_count": 13,
      "metadata": {},
      "outputs": [
        {
          "data": {
            "image/png": "[encoded data removed]",
            "text/plain": [
              "<Figure size 1000x600 with 1 Axes>"
            ]
          },
          "metadata": {},
          "output_type": "display_data"
        }
      ],
      "source": [
        "#Hagamos un diagrama de barras para ver la cantidad de textos por ODS\n",
        "fig, ax = plt.subplots(figsize=(10, 6))\n",
        "df_ods['labels'].value_counts().sort_index().plot(kind='bar', ax=ax)\n",
        "fig.suptitle('Cantidad de textos por ODS')\n",
        "#Pongamos el valor encima de cada barra\n",
        "for indice_barra, valor in enumerate(df_ods['labels'].value_counts().sort_index()): \n",
        "    ax.text(indice_barra, valor + 3, str(valor), ha='center', va='bottom')\n",
        "plt.show()"
      ]
    },
    {
      "cell_type": "code",
      "execution_count": 14,
      "metadata": {},
      "outputs": [
        {
          "data": {
            "image/png": "[encoded data removed]",
            "text/plain": [
              "<Figure size 800x800 with 1 Axes>"
            ]
          },
          "metadata": {},
          "output_type": "display_data"
        }
      ],
      "source": [
        "#Hagamos un pie chart para ver la distribución de los ODS (1,3,4)\n",
        "ods_counts = df_ods['labels'].value_counts()\n",
        "fig, ax = plt.subplots(figsize=(8, 8))\n",
        "ods_counts.plot(kind='pie', autopct='%1.1f%%', ax=ax)\n",
        "ax.set_ylabel('')\n",
        "ax.set_title('Distribución de los ODS en las opiniones de los ciudadanos')\n",
        "plt.show()\n"
      ]
    },
    {
      "cell_type": "markdown",
      "metadata": {},
      "source": [
        "**Perfilamiento de datos**\n",
        "\n",
        "Se nos han compartido 2424 registros de opiniones ciudadanas sobre problemáticas sociales relacionadas con los Objetivos de Desarrollo Sostenible (ODS), etiquetados según 1 (Fin de la pobreza), 3 (Salud y bienestar) y 4 (Educación de calidad). \n",
        "\n",
        "El dataset está compuesto por dos columnas que describen las generalidades de una opinión ciudadana. Está la columna `textos`, la cual contiene la opinión de un ciudadano (en lenguaje natural, y además en el idioma español), claramente corresponde a texto. También encontramos la columna `labels`, la cual da una única clasificación a la opinión en cuestión, es una columna o variable numérica. \n",
        "\n",
        "La mayoría de las opiniones ciudadanas en el conjunto de datos pertenece al ODS 4, Educación de calidad (42.3%). Seguido, está ODS 3, Saluds y Bienestar (36.9%). Finalmente, el 20.8% de las opiniones pertenecen al ODS 1, Fin de la Pobreza. \n",
        "\n",
        "Conocemos que la longitud promedio de todas las opiniones sin distinción es de aproximadamente 683 caracteres, con un mínimo de 303 y un máximo de 1.492 caracteres. Ahora bien, la longitud promedio de las opiniones, clasificadas por ODS, es similar, siendo cercana a los 700 caracteres. \n",
        "\n",
        "Gracias al boxplot, sabemos que la mayoría de opiniones están entre los 500 y 800 caracteres, con algunos outliers o datos fuera de este rango, los cuales corresponden a texto más extensos, que van de 1200 caracteres hasta un poco más de 1400 caracteres. \n",
        "\n",
        "En general, los datos que tenemos tienen opiniones con extensión similar y hace posible dar un procesamiento coherente para ellas:\n",
        "- La longitud de los textos se encuentra balanceada, mas no la cantidad de textos por ODS. \n",
        "- La cantidad de opiniones por ODS está desbalanceada. Claramente, hay muchas más opiniones de las ODS 4 y 3 en comparación con la ODS 1. De hecho, la ODS-1 tiene aproximadamente la mitad de datos que la ODS-4. Para la 1 hay 505 opiniones; para la 3, 894; para la 4, 1025."
      ]
    },
    {
      "cell_type": "markdown",
      "metadata": {},
      "source": [
        "## 1.2 Análisis de calidad de los datos"
      ]
    },
    {
      "cell_type": "markdown",
      "metadata": {},
      "source": [
        "### Completitud: Revisión de nulos y cadenas vacías"
      ]
    },
    {
      "cell_type": "code",
      "execution_count": 15,
      "metadata": {},
      "outputs": [
        {
          "name": "stdout",
          "output_type": "stream",
          "text": [
            "<class 'pandas.core.frame.DataFrame'>\n",
            "RangeIndex: 2424 entries, 0 to 2423\n",
            "Data columns (total 3 columns):\n",
            " #   Column           Non-Null Count  Dtype \n",
            "---  ------           --------------  ----- \n",
            " 0   textos           2424 non-null   object\n",
            " 1   labels           2424 non-null   int64 \n",
            " 2   textos_longitud  2424 non-null   int64 \n",
            "dtypes: int64(2), object(1)\n",
            "memory usage: 56.9+ KB\n"
          ]
        }
      ],
      "source": [
        "df_ods.info()"
      ]
    },
    {
      "cell_type": "code",
      "execution_count": 16,
      "metadata": {},
      "outputs": [
        {
          "name": "stdout",
          "output_type": "stream",
          "text": [
            "Número de valores nulos en 'textos': 0\n",
            "Número de cadenas vacías en 'textos': 0\n"
          ]
        }
      ],
      "source": [
        "# Verificamos nulos y vacíos en la columna textos\n",
        "num_nulls = df_ods['textos'].isnull().sum()\n",
        "num_empty = (df_ods['textos'].str.strip() == '').sum()\n",
        "\n",
        "print(\"Número de valores nulos en 'textos':\", num_nulls)\n",
        "print(\"Número de cadenas vacías en 'textos':\", num_empty)"
      ]
    },
    {
      "cell_type": "markdown",
      "metadata": {},
      "source": [
        "No hay datos nulos, ni cadenas vacías en los datos. Tanto la columna textos como la columna de etiquetas o labels están completas. Ambas tienen 2424 datos. "
      ]
    },
    {
      "cell_type": "markdown",
      "metadata": {},
      "source": [
        "### Unicidad: Revision de duplicados: totales y parciales"
      ]
    },
    {
      "cell_type": "code",
      "execution_count": 17,
      "metadata": {},
      "outputs": [
        {
          "name": "stdout",
          "output_type": "stream",
          "text": [
            "Número de filas duplicadas en el dataset: 0\n"
          ]
        }
      ],
      "source": [
        "#Veamos los duplicados totales\n",
        "num_duplicados = df_ods.duplicated().sum()\n",
        "print(\"Número de filas duplicadas en el dataset:\", num_duplicados)"
      ]
    },
    {
      "cell_type": "code",
      "execution_count": 18,
      "metadata": {},
      "outputs": [
        {
          "name": "stdout",
          "output_type": "stream",
          "text": [
            "Número de textos con varias etiquetas: 0\n"
          ]
        }
      ],
      "source": [
        "#Agrupamos por texto y contamos cuántos labels distintos tiene\n",
        "conflictos = df_ods.groupby('textos')['labels'].nunique()\n",
        "\n",
        "#Nos quedamos solo con los que tienen más de 1 etiqueta distinta\n",
        "conflictos = conflictos[conflictos > 1]\n",
        "\n",
        "print(\"Número de textos con varias etiquetas:\", conflictos.shape[0])\n"
      ]
    },
    {
      "cell_type": "markdown",
      "metadata": {},
      "source": [
        "Verificamos que no existen filas duplicadas ni duplicados parciales, que en este caso son textos repetidos con etiquetas distintas."
      ]
    },
    {
      "cell_type": "markdown",
      "metadata": {},
      "source": [
        "### Consistencia: Confirmar que los formatos de las columnas son acordes a lo esperado"
      ]
    },
    {
      "cell_type": "code",
      "execution_count": 19,
      "metadata": {},
      "outputs": [
        {
          "name": "stdout",
          "output_type": "stream",
          "text": [
            "Tipos de datos en 'textos': [<class 'str'>]\n",
            "Tipos de datos en 'labels': [<class 'int'>]\n"
          ]
        }
      ],
      "source": [
        "#Revisamos que todos los registros en la columna 'textos' sean string\n",
        "tipos_textos = df_ods['textos'].apply(type).unique()\n",
        "print(\"Tipos de datos en 'textos':\", tipos_textos)\n",
        "\n",
        "#Revisamos que todos los registros en  la columna'labels' sean numéricos\n",
        "tipos_labels = df_ods['labels'].apply(type).unique()\n",
        "print(\"Tipos de datos en 'labels':\", tipos_labels)"
      ]
    },
    {
      "cell_type": "markdown",
      "metadata": {},
      "source": [
        "En efecto, los tipos de datos son los esperados para cada columna."
      ]
    },
    {
      "cell_type": "markdown",
      "metadata": {},
      "source": [
        "### Validez: Confirmar que los valores estén dentro de rangos lógicos para el contexto del problema\n",
        "\n",
        "En nuestro caso, vamos a revisar que los tipos de ODS sean 1, 3 o 4. Ningún otro tipo."
      ]
    },
    {
      "cell_type": "code",
      "execution_count": 20,
      "metadata": {},
      "outputs": [
        {
          "name": "stdout",
          "output_type": "stream",
          "text": [
            "Valores únicos en labels: [4 3 1]\n"
          ]
        }
      ],
      "source": [
        "valores_unicos = df_ods['labels'].unique()\n",
        "print(\"Valores únicos en labels:\", valores_unicos)"
      ]
    },
    {
      "cell_type": "markdown",
      "metadata": {},
      "source": [
        "En efecto, los únicos tipos de ODS en los datos que recibimos son 1, 3 y 4."
      ]
    },
    {
      "cell_type": "markdown",
      "metadata": {},
      "source": [
        "## Enfoque analítico\n",
        "\n",
        "Para el proyecto de ODS y opiniones ciudadanas, hemos sido contratados para construir un modelo de aprendizaje automático que pueda clasificar automáticamente las opiniones de la ciudadanía en relación con los Objetivos de Desarrollo Sostenible (ODS) 1, 3 y 4. En ese contexto, y una vez entendidos los datos, identificamos:"
      ]
    },
    {
      "cell_type": "markdown",
      "metadata": {},
      "source": [
        "- **Tipo de analítica**: Predictiva, porque queremos saber qué va a pasar, en este caso: ¿A qué ODS (1, 3 o 4) va a pertenecer la nueva opinión de un cuidadano?\n",
        "\n",
        "- **Tipo de aprendizaje**: Supervisado, debido a que contamos con un dataset etiquetado. Cada registro que tenemos incluye el texto de la opinión y la etiqueta que indica a qué ODS está asociada (1, 3 o 4), lo que permite entrenar el modelo con ejemplos donde conocemos la respuesta. Siempre queremos predecir el tipo de ODS: 1-ODS, 3-ODS, 4-ODS de la opinión.\n",
        "\n",
        "- **Tipo de tarea supervisada**: Clasificación, ya que la variable objetivo es el tipo de ODS y puede tomar los valores 1, 3 o 4. Toma el valor 1 para ODS de fin de la pobreza, 3 para salud y bienestar y 4 para educación de calidad."
      ]
    },
    {
      "cell_type": "markdown",
      "metadata": {},
      "source": [
        "# Etapa 2. Procesamiento de texto: tokenización y limpieza de palabras"
      ]
    },
    {
      "cell_type": "markdown",
      "metadata": {},
      "source": [
        "Comencemos haciendo una función para eliminar ruido en los registros de los textos:\n",
        "1. Pasemos todo a minúsculas\n",
        "2. Eliminamos signos de puntuación (no incluye tildes), pero si puntos, comas, comillas, entre otros.\n",
        "3. Reemplazamos números por su equivalente en palabras\n"
      ]
    },
    {
      "cell_type": "code",
      "execution_count": 26,
      "metadata": {},
      "outputs": [],
      "source": [
        "import nltk\n",
        "import string\n",
        "from nltk.corpus import stopwords\n",
        "from num2words import num2words\n",
        "\n",
        "#Esto se hara cuando el texto ya este tokenizado\n",
        "def limpiar_texto(texto_tokenizado):\n",
        "    texto_limpio_tokenizado = []\n",
        "    for palabra in texto_tokenizado:\n",
        "        # Pasar a minúsculas\n",
        "        palabra = palabra.lower()\n",
        "        # Eliminar signos de puntuación\n",
        "        palabra = palabra.translate(str.maketrans('', '', string.punctuation))\n",
        "        # Reemplazar números por su representación en palabras\n",
        "        if palabra.isdigit():\n",
        "            palabra = num2words(palabra, lang='es')\n",
        "        # Agregar si no está vacía\n",
        "        if palabra:\n",
        "            texto_limpio_tokenizado.append(palabra)\n",
        "    return texto_limpio_tokenizado"
      ]
    },
    {
      "cell_type": "markdown",
      "metadata": {},
      "source": [
        "Para procesar las opiniones de los ciudadanos, hay que hacer tokenización, lematización y normalización. Recodermos un poco estos conceptos para tener claro lo que vamos a realizar:\n",
        "\n",
        "**Tokenización:** dividimos las frases o las oraciones en tokens (palabras)\n",
        "\n",
        "**Lematización:** llevamos cada palabra o token a su base gramatical (comimos -> comer)\n",
        "\n",
        "**Normalización:** aplicamos la función que reduce ruido en los tokens para poder unificar el texto"
      ]
    },
    {
      "cell_type": "markdown",
      "metadata": {},
      "source": [
        "Hacemos el proceso de tokenización"
      ]
    },
    {
      "cell_type": "code",
      "execution_count": 21,
      "metadata": {},
      "outputs": [
        {
          "data": {
            "text/html": [
              "<div>\n",
              "<style scoped>\n",
              "    .dataframe tbody tr th:only-of-type {\n",
              "        vertical-align: middle;\n",
              "    }\n",
              "\n",
              "    .dataframe tbody tr th {\n",
              "        vertical-align: top;\n",
              "    }\n",
              "\n",
              "    .dataframe thead th {\n",
              "        text-align: right;\n",
              "    }\n",
              "</style>\n",
              "<table border=\"1\" class=\"dataframe\">\n",
              "  <thead>\n",
              "    <tr style=\"text-align: right;\">\n",
              "      <th></th>\n",
              "      <th>textos</th>\n",
              "      <th>tokens</th>\n",
              "    </tr>\n",
              "  </thead>\n",
              "  <tbody>\n",
              "    <tr>\n",
              "      <th>0</th>\n",
              "      <td>\"Aprendizaje\" y \"educación\" se consideran sinó...</td>\n",
              "      <td>[\"Aprendizaje\", y, \"educación\", se, consideran...</td>\n",
              "    </tr>\n",
              "    <tr>\n",
              "      <th>1</th>\n",
              "      <td>Para los niños más pequeños (bebés y niños peq...</td>\n",
              "      <td>[Para, los, niños, más, pequeños, (bebés, y, n...</td>\n",
              "    </tr>\n",
              "    <tr>\n",
              "      <th>2</th>\n",
              "      <td>Además, la formación de especialistas en medic...</td>\n",
              "      <td>[Además,, la, formación, de, especialistas, en...</td>\n",
              "    </tr>\n",
              "    <tr>\n",
              "      <th>3</th>\n",
              "      <td>En los países de la OCDE se tiende a pasar de ...</td>\n",
              "      <td>[En, los, países, de, la, OCDE, se, tiende, a,...</td>\n",
              "    </tr>\n",
              "    <tr>\n",
              "      <th>4</th>\n",
              "      <td>Este grupo se centró en las personas que padec...</td>\n",
              "      <td>[Este, grupo, se, centró, en, las, personas, q...</td>\n",
              "    </tr>\n",
              "  </tbody>\n",
              "</table>\n",
              "</div>"
            ],
            "text/plain": [
              "                                              textos  \\\n",
              "0  \"Aprendizaje\" y \"educación\" se consideran sinó...   \n",
              "1  Para los niños más pequeños (bebés y niños peq...   \n",
              "2  Además, la formación de especialistas en medic...   \n",
              "3  En los países de la OCDE se tiende a pasar de ...   \n",
              "4  Este grupo se centró en las personas que padec...   \n",
              "\n",
              "                                              tokens  \n",
              "0  [\"Aprendizaje\", y, \"educación\", se, consideran...  \n",
              "1  [Para, los, niños, más, pequeños, (bebés, y, n...  \n",
              "2  [Además,, la, formación, de, especialistas, en...  \n",
              "3  [En, los, países, de, la, OCDE, se, tiende, a,...  \n",
              "4  [Este, grupo, se, centró, en, las, personas, q...  "
            ]
          },
          "execution_count": 21,
          "metadata": {},
          "output_type": "execute_result"
        }
      ],
      "source": [
        "#Tokenizamos el texto (cada registro de textos en el dataframe)\n",
        "def tokenizar_columna(df, columna_texto, nueva_columna):\n",
        "    tokens_col = []\n",
        "    #Hacemos un split por espacio para tokenizar\n",
        "    for texto in df[columna_texto]:\n",
        "        tokens_col.append(str(texto).split())\n",
        "    df[nueva_columna] = tokens_col\n",
        "    return df\n",
        "\n",
        "df_ods = tokenizar_columna(df_ods, 'textos', 'tokens')\n",
        "\n",
        "#Veamos cómo quedaron los tokens\n",
        "df_ods[['textos', 'tokens']].head()"
      ]
    },
    {
      "cell_type": "markdown",
      "metadata": {},
      "source": [
        "Eliminamos ruido para una lematización adecuada"
      ]
    },
    {
      "cell_type": "code",
      "execution_count": 27,
      "metadata": {},
      "outputs": [
        {
          "data": {
            "text/html": [
              "<div>\n",
              "<style scoped>\n",
              "    .dataframe tbody tr th:only-of-type {\n",
              "        vertical-align: middle;\n",
              "    }\n",
              "\n",
              "    .dataframe tbody tr th {\n",
              "        vertical-align: top;\n",
              "    }\n",
              "\n",
              "    .dataframe thead th {\n",
              "        text-align: right;\n",
              "    }\n",
              "</style>\n",
              "<table border=\"1\" class=\"dataframe\">\n",
              "  <thead>\n",
              "    <tr style=\"text-align: right;\">\n",
              "      <th></th>\n",
              "      <th>tokens</th>\n",
              "      <th>tokens_limpios</th>\n",
              "    </tr>\n",
              "  </thead>\n",
              "  <tbody>\n",
              "    <tr>\n",
              "      <th>0</th>\n",
              "      <td>[\"Aprendizaje\", y, \"educación\", se, consideran...</td>\n",
              "      <td>[aprendizaje, y, educación, se, consideran, si...</td>\n",
              "    </tr>\n",
              "    <tr>\n",
              "      <th>1</th>\n",
              "      <td>[Para, los, niños, más, pequeños, (bebés, y, n...</td>\n",
              "      <td>[para, los, niños, más, pequeños, bebés, y, ni...</td>\n",
              "    </tr>\n",
              "    <tr>\n",
              "      <th>2</th>\n",
              "      <td>[Además,, la, formación, de, especialistas, en...</td>\n",
              "      <td>[además, la, formación, de, especialistas, en,...</td>\n",
              "    </tr>\n",
              "    <tr>\n",
              "      <th>3</th>\n",
              "      <td>[En, los, países, de, la, OCDE, se, tiende, a,...</td>\n",
              "      <td>[en, los, países, de, la, ocde, se, tiende, a,...</td>\n",
              "    </tr>\n",
              "    <tr>\n",
              "      <th>4</th>\n",
              "      <td>[Este, grupo, se, centró, en, las, personas, q...</td>\n",
              "      <td>[este, grupo, se, centró, en, las, personas, q...</td>\n",
              "    </tr>\n",
              "  </tbody>\n",
              "</table>\n",
              "</div>"
            ],
            "text/plain": [
              "                                              tokens  \\\n",
              "0  [\"Aprendizaje\", y, \"educación\", se, consideran...   \n",
              "1  [Para, los, niños, más, pequeños, (bebés, y, n...   \n",
              "2  [Además,, la, formación, de, especialistas, en...   \n",
              "3  [En, los, países, de, la, OCDE, se, tiende, a,...   \n",
              "4  [Este, grupo, se, centró, en, las, personas, q...   \n",
              "\n",
              "                                      tokens_limpios  \n",
              "0  [aprendizaje, y, educación, se, consideran, si...  \n",
              "1  [para, los, niños, más, pequeños, bebés, y, ni...  \n",
              "2  [además, la, formación, de, especialistas, en,...  \n",
              "3  [en, los, países, de, la, ocde, se, tiende, a,...  \n",
              "4  [este, grupo, se, centró, en, las, personas, q...  "
            ]
          },
          "execution_count": 27,
          "metadata": {},
          "output_type": "execute_result"
        }
      ],
      "source": [
        "#Eliminamos ruido para poder hacer lematización después\n",
        "#Debemos hacerlo, o tokens como '\"aprendizaje\"' no se lematizarán bien, pues tienen comillas o signos de puntuación y \n",
        "#spacy puede no reconocer bien el token\n",
        "df_ods[\"tokens_limpios\"] = df_ods[\"tokens\"].apply(limpiar_texto)\n",
        "\n",
        "#Veamos cómo quedaron los tokens limpios\n",
        "df_ods[['tokens', 'tokens_limpios']].head()"
      ]
    },
    {
      "cell_type": "markdown",
      "metadata": {},
      "source": [
        "Hacemos el proceso de lematización"
      ]
    },
    {
      "cell_type": "code",
      "execution_count": null,
      "metadata": {},
      "outputs": [
        {
          "data": {
            "text/html": [
              "<div>\n",
              "<style scoped>\n",
              "    .dataframe tbody tr th:only-of-type {\n",
              "        vertical-align: middle;\n",
              "    }\n",
              "\n",
              "    .dataframe tbody tr th {\n",
              "        vertical-align: top;\n",
              "    }\n",
              "\n",
              "    .dataframe thead th {\n",
              "        text-align: right;\n",
              "    }\n",
              "</style>\n",
              "<table border=\"1\" class=\"dataframe\">\n",
              "  <thead>\n",
              "    <tr style=\"text-align: right;\">\n",
              "      <th></th>\n",
              "      <th>tokens_limpios</th>\n",
              "      <th>tokens_lematizados</th>\n",
              "    </tr>\n",
              "  </thead>\n",
              "  <tbody>\n",
              "    <tr>\n",
              "      <th>0</th>\n",
              "      <td>[aprendizaje, y, educación, se, consideran, si...</td>\n",
              "      <td>[aprendizaje, y, educación, él, considerar, si...</td>\n",
              "    </tr>\n",
              "    <tr>\n",
              "      <th>1</th>\n",
              "      <td>[para, los, niños, más, pequeños, bebés, y, ni...</td>\n",
              "      <td>[para, el, niño, más, pequeño, bebé, y, niño, ...</td>\n",
              "    </tr>\n",
              "    <tr>\n",
              "      <th>2</th>\n",
              "      <td>[además, la, formación, de, especialistas, en,...</td>\n",
              "      <td>[además, el, formación, de, especialista, en, ...</td>\n",
              "    </tr>\n",
              "    <tr>\n",
              "      <th>3</th>\n",
              "      <td>[en, los, países, de, la, ocde, se, tiende, a,...</td>\n",
              "      <td>[en, el, país, de, el, ocde, él, tender, a, pa...</td>\n",
              "    </tr>\n",
              "    <tr>\n",
              "      <th>4</th>\n",
              "      <td>[este, grupo, se, centró, en, las, personas, q...</td>\n",
              "      <td>[este, grupo, él, centrar, en, el, persona, qu...</td>\n",
              "    </tr>\n",
              "  </tbody>\n",
              "</table>\n",
              "</div>"
            ],
            "text/plain": [
              "                                      tokens_limpios  \\\n",
              "0  [aprendizaje, y, educación, se, consideran, si...   \n",
              "1  [para, los, niños, más, pequeños, bebés, y, ni...   \n",
              "2  [además, la, formación, de, especialistas, en,...   \n",
              "3  [en, los, países, de, la, ocde, se, tiende, a,...   \n",
              "4  [este, grupo, se, centró, en, las, personas, q...   \n",
              "\n",
              "                                  tokens_lematizados  \n",
              "0  [aprendizaje, y, educación, él, considerar, si...  \n",
              "1  [para, el, niño, más, pequeño, bebé, y, niño, ...  \n",
              "2  [además, el, formación, de, especialista, en, ...  \n",
              "3  [en, el, país, de, el, ocde, él, tender, a, pa...  \n",
              "4  [este, grupo, él, centrar, en, el, persona, qu...  "
            ]
          },
          "metadata": {},
          "output_type": "display_data"
        }
      ],
      "source": [
        "#Lematizamos los tokens\n",
        "\n",
        "import spacy\n",
        "\n",
        "#Cargar el modelo de spaCy para español\n",
        "nlp = spacy.load(\"es_core_news_sm\")\n",
        "\n",
        "def lematizar_los_tokens(df, columna_tokens, nueva_columna):\n",
        "    lemas_col = []\n",
        "    for lista_tokens in df[columna_tokens]:\n",
        "        #Creamos un doc de spaCy a partir de los tokens, pues asi spacy hace la lematización\n",
        "        doc = nlp(\" \".join(lista_tokens))\n",
        "        lemas = []\n",
        "        #para cada palabra en el doc (en la frase)\n",
        "        for token in doc:\n",
        "            if not token.is_space:\n",
        "                lemas.append(token.lemma_)\n",
        "        #token.lemma_ devuelve la raíz de cada palabra\n",
        "        #se hace una lista de lemas con las palabra ya lematizadas que no son espacios\n",
        "        lemas = [tok.lemma_ for tok in doc if not tok.is_space]\n",
        "        lemas_col.append(lemas)\n",
        "    df[nueva_columna] = lemas_col\n",
        "    return df\n",
        "\n",
        "#Aplicamos la lematización\n",
        "df_ods = lematizar_los_tokens(df_ods, \"tokens_limpios\", \"tokens_lematizados\")\n",
        "\n",
        "#Veamos cómo quedaron los tokens lematizados\n",
        "display(df_ods[[\"tokens_limpios\", \"tokens_lematizados\"]].head())\n"
      ]
    },
    {
      "cell_type": "markdown",
      "metadata": {},
      "source": [
        "Hacemos una normalización final con el fin de dejar el texto en un mismo formato:\n",
        "1. Eliminamos stopwords\n",
        "2. Quitamos las tildes, que no estaban incluidas en la vez que quitamos los signos de puntuación\n",
        "3. Nos aseguramos de no dejar palabras vacías"
      ]
    },
    {
      "cell_type": "code",
      "execution_count": null,
      "metadata": {},
      "outputs": [
        {
          "name": "stderr",
          "output_type": "stream",
          "text": [
            "[nltk_data] Downloading package stopwords to\n",
            "[nltk_data]     C:\\Users\\User\\AppData\\Roaming\\nltk_data...\n",
            "[nltk_data]   Package stopwords is already up-to-date!\n"
          ]
        },
        {
          "data": {
            "text/html": [
              "<div>\n",
              "<style scoped>\n",
              "    .dataframe tbody tr th:only-of-type {\n",
              "        vertical-align: middle;\n",
              "    }\n",
              "\n",
              "    .dataframe tbody tr th {\n",
              "        vertical-align: top;\n",
              "    }\n",
              "\n",
              "    .dataframe thead th {\n",
              "        text-align: right;\n",
              "    }\n",
              "</style>\n",
              "<table border=\"1\" class=\"dataframe\">\n",
              "  <thead>\n",
              "    <tr style=\"text-align: right;\">\n",
              "      <th></th>\n",
              "      <th>tokens_lematizados</th>\n",
              "      <th>tokens_finales</th>\n",
              "    </tr>\n",
              "  </thead>\n",
              "  <tbody>\n",
              "    <tr>\n",
              "      <th>0</th>\n",
              "      <td>[aprendizaje, y, educación, él, considerar, si...</td>\n",
              "      <td>[aprendizaje, educacion, considerar, sinonir, ...</td>\n",
              "    </tr>\n",
              "    <tr>\n",
              "      <th>1</th>\n",
              "      <td>[para, el, niño, más, pequeño, bebé, y, niño, ...</td>\n",
              "      <td>[niño, mas, pequeño, bebe, niño, pequeño, capa...</td>\n",
              "    </tr>\n",
              "    <tr>\n",
              "      <th>2</th>\n",
              "      <td>[además, el, formación, de, especialista, en, ...</td>\n",
              "      <td>[ademas, formacion, especialista, medicina, ge...</td>\n",
              "    </tr>\n",
              "    <tr>\n",
              "      <th>3</th>\n",
              "      <td>[en, el, país, de, el, ocde, él, tender, a, pa...</td>\n",
              "      <td>[pais, ocde, tender, pasar, curso, obligatorio...</td>\n",
              "    </tr>\n",
              "    <tr>\n",
              "      <th>4</th>\n",
              "      <td>[este, grupo, él, centrar, en, el, persona, qu...</td>\n",
              "      <td>[grupo, centrar, persona, padecer, trastorno, ...</td>\n",
              "    </tr>\n",
              "  </tbody>\n",
              "</table>\n",
              "</div>"
            ],
            "text/plain": [
              "                                  tokens_lematizados  \\\n",
              "0  [aprendizaje, y, educación, él, considerar, si...   \n",
              "1  [para, el, niño, más, pequeño, bebé, y, niño, ...   \n",
              "2  [además, el, formación, de, especialista, en, ...   \n",
              "3  [en, el, país, de, el, ocde, él, tender, a, pa...   \n",
              "4  [este, grupo, él, centrar, en, el, persona, qu...   \n",
              "\n",
              "                                      tokens_finales  \n",
              "0  [aprendizaje, educacion, considerar, sinonir, ...  \n",
              "1  [niño, mas, pequeño, bebe, niño, pequeño, capa...  \n",
              "2  [ademas, formacion, especialista, medicina, ge...  \n",
              "3  [pais, ocde, tender, pasar, curso, obligatorio...  \n",
              "4  [grupo, centrar, persona, padecer, trastorno, ...  "
            ]
          },
          "execution_count": 28,
          "metadata": {},
          "output_type": "execute_result"
        }
      ],
      "source": [
        "import string, unicodedata \n",
        "\n",
        "#Descargamos las stopwords y las definimos en español\n",
        "#Recordar super importante: las stopwords son palabras que son usuales en un idioma, en este caso el español, pero que no aportan casi valor para analizar el texto\n",
        "#Por ejemplo: el, un, para, por, y\n",
        "nltk.download(\"stopwords\")\n",
        "stop_words = set(stopwords.words(\"spanish\"))\n",
        "\n",
        "#Hagamos una normalización final para eliminar cualquier ruido que haya quedado\n",
        "\n",
        "#Función para quitar tildes\n",
        "def quitar_tildes(s: str) -> str:\n",
        "    return ''.join(c for c in unicodedata.normalize('NFD', s) if unicodedata.category(c) != 'Mn')\n",
        "\n",
        "def normalizar_texto(texto_tokenizado):\n",
        "    texto_limpio_tokenizado = []\n",
        "    for palabra in texto_tokenizado:\n",
        "        #Quitamos las tildes\n",
        "        if 'á' in palabra or'é' in palabra or 'í' in palabra or'ó' in palabra or'ú' in palabra or 'ü' in palabra:\n",
        "            palabra = quitar_tildes(palabra)\n",
        "        #Eliminamos stopwords y palabras vacías\n",
        "        if palabra and palabra not in stop_words:\n",
        "            texto_limpio_tokenizado.append(palabra)\n",
        "    return texto_limpio_tokenizado\n",
        "\n",
        "#Aplicamos la normalización final\n",
        "df_ods[\"tokens_finales\"] = df_ods[\"tokens_lematizados\"].apply(normalizar_texto)\n",
        "\n",
        "#Veamos cómo quedaron los tokens finales\n",
        "df_ods[[\"tokens_lematizados\", \"tokens_finales\"]].head()\n",
        "\n"
      ]
    },
    {
      "cell_type": "markdown",
      "metadata": {},
      "source": [
        "Continuamos con el proceso de vectorización, que es el último paso en el preprocesamiento de textos. Este permite representar las palabras de una forma numérica, de forma que puedan ser procesados con los distintos modelos, pues no las comprenden como texto.\n",
        "\n",
        "Vectorizar, en nuestro caso, lo podemos pensar como:\n",
        "- Construir una matriz texto-término (cada palabra es un término).\n",
        "- Usar TF-IDF, que nos dice que tan relevante es la palabra para describir ese texto (opinión).\n",
        "\n",
        "TF-IDF:\n",
        "Da un puntaje alto a palabras que:\n",
        "- Palabras que aparecen mucho en un texto concreto (TF alto)\n",
        "- Pero que son poco comunes en los demás textos (IDF alto)"
      ]
    },
    {
      "cell_type": "code",
      "execution_count": null,
      "metadata": {},
      "outputs": [
        {
          "data": {
            "text/plain": [
              "0       aprendizaje educacion considerar sinonir escol...\n",
              "1       niño mas pequeño bebe niño pequeño capacitacio...\n",
              "2       ademas formacion especialista medicina general...\n",
              "3       pais ocde tender pasar curso obligatorio optat...\n",
              "4       grupo centrar persona padecer trastorno mental...\n",
              "                              ...                        \n",
              "2419    tutoer carrera diseñar apoyar estudiante conse...\n",
              "2420    fuente ministerio educacion tasa interno retor...\n",
              "2421    dos mil diez pnud haber ser pionero puesta mar...\n",
              "2422    embargo falla mercado implicar competencia sol...\n",
              "2423    aunque existir programa convertir el especific...\n",
              "Name: tokens_finales, Length: 2424, dtype: object"
            ]
          },
          "execution_count": 29,
          "metadata": {},
          "output_type": "execute_result"
        }
      ],
      "source": [
        "#Preparamos los documentos como strings, unimos los tokens finales dejando un espacio entre ellos\n",
        "#Todos los documentos se llaman corpus\n",
        "corpus = df_ods[\"tokens_finales\"].apply(lambda toks: \" \".join(toks)).fillna(\"\")\n",
        "\n",
        "corpus"
      ]
    },
    {
      "cell_type": "markdown",
      "metadata": {},
      "source": [
        "Vamos a crear el vectorizador para TF-IDF teniendo en cuenta lo siguiente:\n",
        "1. No vamos a agregar preprocesamiento de más por parte del vectorizador: ya las palabras están en minúscula y ya se limpiaron los datos\n",
        "\n",
        "2. Ignoraremos las palabras que aparecen en menos de dos documentos, ya que su ocurrencia es muy extraña y no ayuda a realmente distinguir un tipo de ods. De hecho, hasta podrían ser errores ortográficos.\n",
        "\n",
        "3. Ignoraremos las palabras que aparecen en más del 90% de los documentos, ya que al ser demasiado comunes no aportan a distinguir un tipo de ods, por ejemplo palabras como \"problema\" o \"ods\" no serían útiles, pero podrían repetirse bastante bajo este contexto.\n",
        "\n",
        "4. Solo vamos a considerar tokens con al menos dos letras, que no ayudan a hacer distinción. Dejamos dos, porque las palabras no o sí pueden ser útiles al distinguir opiniones.\n",
        "\n",
        "5. No vamos a fijarnos en números (como años: 2006, 2007) para distinguir una opinión, ya que no resulta útil para clasificar. Estos pudieron no haber estado puros (2006año, en2007) y por ello pudieron haber estado presentes luego del filtrado. De todas formas, no los consideraremos."
      ]
    },
    {
      "cell_type": "code",
      "execution_count": 51,
      "metadata": {},
      "outputs": [],
      "source": [
        "from sklearn.feature_extraction.text import TfidfVectorizer\n",
        "\n",
        "# Creamos el vectorizador TF-IDF\n",
        "tfidf = TfidfVectorizer(\n",
        "    preprocessor=None, #No aplicamos más preprocesamiento, ya limpiamos antes\n",
        "    lowercase=False, #No convertimos a minúsculas, ya lo hicimos\n",
        "    min_df=2, #Ignoramos palabras que aparecen en menos de 2 documentos\n",
        "    max_df=0.90, #Ignoramos palabras que aparecen en más del 90% de los documentos (demasiado comunes, como si fuera \"ods\", no aporta)\n",
        "    token_pattern=r\"(?u)\\b[^\\W\\d_]{2,}\\b\" #Solo consideramos tokens con al menos 2 letras (ignoramos números y palabras de una letra)\n",
        ")\n",
        "\n",
        "X_tfidf = tfidf.fit_transform(corpus) #Esto crea la matriz TF-IDF de opinion-terminos\n"
      ]
    },
    {
      "cell_type": "code",
      "execution_count": 54,
      "metadata": {},
      "outputs": [
        {
          "name": "stdout",
          "output_type": "stream",
          "text": [
            "Tamaño del total de términos: 4905\n"
          ]
        },
        {
          "data": {
            "text/html": [
              "<div>\n",
              "<style scoped>\n",
              "    .dataframe tbody tr th:only-of-type {\n",
              "        vertical-align: middle;\n",
              "    }\n",
              "\n",
              "    .dataframe tbody tr th {\n",
              "        vertical-align: top;\n",
              "    }\n",
              "\n",
              "    .dataframe thead th {\n",
              "        text-align: right;\n",
              "    }\n",
              "</style>\n",
              "<table border=\"1\" class=\"dataframe\">\n",
              "  <thead>\n",
              "    <tr style=\"text-align: right;\">\n",
              "      <th></th>\n",
              "      <th>abajo</th>\n",
              "      <th>abandonar</th>\n",
              "      <th>abandono</th>\n",
              "      <th>abarcar</th>\n",
              "      <th>abierto</th>\n",
              "      <th>abitur</th>\n",
              "      <th>abogar</th>\n",
              "      <th>abolir</th>\n",
              "      <th>abordado</th>\n",
              "      <th>abordaje</th>\n",
              "    </tr>\n",
              "  </thead>\n",
              "  <tbody>\n",
              "    <tr>\n",
              "      <th>0</th>\n",
              "      <td>0.0</td>\n",
              "      <td>0.0</td>\n",
              "      <td>0.0</td>\n",
              "      <td>0.0</td>\n",
              "      <td>0.000000</td>\n",
              "      <td>0.0</td>\n",
              "      <td>0.0</td>\n",
              "      <td>0.0</td>\n",
              "      <td>0.0</td>\n",
              "      <td>0.0</td>\n",
              "    </tr>\n",
              "    <tr>\n",
              "      <th>1</th>\n",
              "      <td>0.0</td>\n",
              "      <td>0.0</td>\n",
              "      <td>0.0</td>\n",
              "      <td>0.0</td>\n",
              "      <td>0.000000</td>\n",
              "      <td>0.0</td>\n",
              "      <td>0.0</td>\n",
              "      <td>0.0</td>\n",
              "      <td>0.0</td>\n",
              "      <td>0.0</td>\n",
              "    </tr>\n",
              "    <tr>\n",
              "      <th>2</th>\n",
              "      <td>0.0</td>\n",
              "      <td>0.0</td>\n",
              "      <td>0.0</td>\n",
              "      <td>0.0</td>\n",
              "      <td>0.000000</td>\n",
              "      <td>0.0</td>\n",
              "      <td>0.0</td>\n",
              "      <td>0.0</td>\n",
              "      <td>0.0</td>\n",
              "      <td>0.0</td>\n",
              "    </tr>\n",
              "    <tr>\n",
              "      <th>3</th>\n",
              "      <td>0.0</td>\n",
              "      <td>0.0</td>\n",
              "      <td>0.0</td>\n",
              "      <td>0.0</td>\n",
              "      <td>0.147916</td>\n",
              "      <td>0.0</td>\n",
              "      <td>0.0</td>\n",
              "      <td>0.0</td>\n",
              "      <td>0.0</td>\n",
              "      <td>0.0</td>\n",
              "    </tr>\n",
              "    <tr>\n",
              "      <th>4</th>\n",
              "      <td>0.0</td>\n",
              "      <td>0.0</td>\n",
              "      <td>0.0</td>\n",
              "      <td>0.0</td>\n",
              "      <td>0.000000</td>\n",
              "      <td>0.0</td>\n",
              "      <td>0.0</td>\n",
              "      <td>0.0</td>\n",
              "      <td>0.0</td>\n",
              "      <td>0.0</td>\n",
              "    </tr>\n",
              "  </tbody>\n",
              "</table>\n",
              "</div>"
            ],
            "text/plain": [
              "   abajo  abandonar  abandono  abarcar   abierto  abitur  abogar  abolir  \\\n",
              "0    0.0        0.0       0.0      0.0  0.000000     0.0     0.0     0.0   \n",
              "1    0.0        0.0       0.0      0.0  0.000000     0.0     0.0     0.0   \n",
              "2    0.0        0.0       0.0      0.0  0.000000     0.0     0.0     0.0   \n",
              "3    0.0        0.0       0.0      0.0  0.147916     0.0     0.0     0.0   \n",
              "4    0.0        0.0       0.0      0.0  0.000000     0.0     0.0     0.0   \n",
              "\n",
              "   abordado  abordaje  \n",
              "0       0.0       0.0  \n",
              "1       0.0       0.0  \n",
              "2       0.0       0.0  \n",
              "3       0.0       0.0  \n",
              "4       0.0       0.0  "
            ]
          },
          "execution_count": 54,
          "metadata": {},
          "output_type": "execute_result"
        }
      ],
      "source": [
        "#Obtenemos todas las palabras únicas que el vectorizador vio en el corpus\n",
        "terminos = tfidf.get_feature_names_out()\n",
        "\n",
        "#Veamos el tamaño del vocabulario\n",
        "print(\"Tamaño del total de términos:\", len(terminos))\n",
        "\n",
        "#Veamos una parte de la matriz en forma de DataFrame para saber si la vectorización se hizo bien\n",
        "#Veamos las primeras 5 filas\n",
        "df_preview = pd.DataFrame( X_tfidf[:5].toarray(),  columns=terminos)\n",
        "#Veamos las primeras 10 columnas, no todas las palabras\n",
        "df_preview.iloc[:, :10]\n"
      ]
    },
    {
      "cell_type": "code",
      "execution_count": 57,
      "metadata": {},
      "outputs": [
        {
          "name": "stdout",
          "output_type": "stream",
          "text": [
            "[('organizacion', 0.35425636768507385), ('considerar', 0.30096281418967274), ('editorial', 0.29824942119612274), ('auxiliar', 0.27571688503055786), ('extension', 0.2540145699642186), ('inadecuado', 0.23768880251932986), ('escolarizacion', 0.22781911912280323), ('establecido', 0.21580050884624385), ('formal', 0.2145221698350767), ('volver', 0.21328317063825086)]\n"
          ]
        }
      ],
      "source": [
        "import numpy as np\n",
        "\n",
        "def top_terminos(doc_id, top):\n",
        "    row = X_tfidf[doc_id].toarray().ravel()\n",
        "    indices = np.argsort(-row)[:top]\n",
        "    return [(terminos[i], float(row[i])) for i in indices if row[i] > 0]\n",
        "\n",
        "#Mosrtremos los términos más importantes del documento 0 (su top 10) y sus puntos ITF-IDF\n",
        "print(top_terminos(0, 10)) \n"
      ]
    },
    {
      "cell_type": "markdown",
      "metadata": {},
      "source": [
        "# Etapa 3. Modelado\n",
        "Se propondrán diferentes modelos para cumplir con la clasificación de los textos"
      ]
    },
    {
      "cell_type": "markdown",
      "metadata": {},
      "source": [
        "### 3.1. Estudiante 3 - Ana María Hernández Lasso: Modelo de Regresión Logística\n",
        "\n",
        "**¿Qué es el modelo de regresión logística?**\n",
        "\n",
        "**Justificación de la elección**\n",
        "\n",
        "**¿Cómo se manejó el desbalance de la cantidad de opiniones por ODS?**"
      ]
    },
    {
      "cell_type": "code",
      "execution_count": 58,
      "metadata": {},
      "outputs": [
        {
          "name": "stdout",
          "output_type": "stream",
          "text": [
            "=== Logistic Regression (Balanced) ===\n",
            "              precision    recall  f1-score   support\n",
            "\n",
            "           1      0.960     0.950     0.955       101\n",
            "           3      0.967     0.972     0.969       179\n",
            "           4      0.980     0.980     0.980       205\n",
            "\n",
            "    accuracy                          0.971       485\n",
            "   macro avg      0.969     0.968     0.968       485\n",
            "weighted avg      0.971     0.971     0.971       485\n",
            "\n"
          ]
        },
        {
          "name": "stderr",
          "output_type": "stream",
          "text": [
            "C:\\Users\\User\\AppData\\Roaming\\Python\\Python313\\site-packages\\sklearn\\linear_model\\_logistic.py:1281: FutureWarning: 'multi_class' was deprecated in version 1.5 and will be removed in 1.7. Use OneVsRestClassifier(LogisticRegression(..)) instead. Leave it to its default value to avoid this warning.\n",
            "  warnings.warn(\n"
          ]
        },
        {
          "data": {
            "image/png": "[encoded data removed]",
            "text/plain": [
              "<Figure size 640x480 with 2 Axes>"
            ]
          },
          "metadata": {},
          "output_type": "display_data"
        }
      ],
      "source": [
        "#ACA VOYY\n",
        "\n",
        "from sklearn.model_selection import train_test_split\n",
        "from sklearn.linear_model import LogisticRegression\n",
        "from sklearn.metrics import classification_report, ConfusionMatrixDisplay\n",
        "import matplotlib.pyplot as plt\n",
        "\n",
        "# y = columna objetivo\n",
        "y = df_ods[\"labels\"]\n",
        "\n",
        "# División train/test (80% - 20%)\n",
        "X_train, X_test, y_train, y_test = train_test_split(\n",
        "    X_tfidf, y, test_size=0.2, random_state=42, stratify=y\n",
        ")\n",
        "\n",
        "# Crear modelo\n",
        "log_reg = LogisticRegression(\n",
        "    max_iter=2000,            # suficiente para convergencia\n",
        "    class_weight=\"balanced\",  # corrige desbalance\n",
        "\n",
        "\n",
        "#TOCA EXPLICAR LO DEL DESBALANCE\n",
        "    solver=\"lbfgs\",           # robusto en multiclase\n",
        "    multi_class=\"ovr\"         # one-vs-rest\n",
        ")\n",
        "\n",
        "# Entrenar\n",
        "log_reg.fit(X_train, y_train)\n",
        "\n",
        "# Predecir\n",
        "y_pred = log_reg.predict(X_test)\n",
        "\n",
        "# Reporte de métricas\n",
        "print(\"=== Logistic Regression (Balanced) ===\")\n",
        "print(classification_report(y_test, y_pred, digits=3))\n",
        "\n",
        "# Matriz de confusión\n",
        "disp = ConfusionMatrixDisplay.from_estimator(\n",
        "    log_reg, X_test, y_test, cmap=\"Blues\"\n",
        ")\n",
        "plt.title(\"Matriz de Confusión - Logistic Regression\")\n",
        "plt.show()\n"
      ]
    },
    {
      "cell_type": "markdown",
      "metadata": {},
      "source": [
        "**¿Cómo se interpretan estos resultados?**"
      ]
    }
  ],
  "metadata": {
    "colab": {
      "provenance": []
    },
    "kernelspec": {
      "display_name": "Python 3",
      "name": "python3"
    },
    "language_info": {
      "codemirror_mode": {
        "name": "ipython",
        "version": 3
      },
      "file_extension": ".py",
      "mimetype": "text/x-python",
      "name": "python",
      "nbconvert_exporter": "python",
      "pygments_lexer": "ipython3",
      "version": "3.13.2"
    }
  },
  "nbformat": 4,
  "nbformat_minor": 0
}
